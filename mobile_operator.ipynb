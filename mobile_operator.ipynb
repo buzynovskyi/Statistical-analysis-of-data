{
 "cells": [
  {
   "cell_type": "code",
   "execution_count": 44,
   "metadata": {},
   "outputs": [],
   "source": [
    "import pandas as pd\n",
    "import numpy as np\n",
    "import matplotlib.pyplot as plt\n",
    "from scipy import stats as st\n",
    "calls = pd.read_csv('/datasets/calls.csv')\n",
    "internet = pd.read_csv('/datasets/internet.csv')\n",
    "messages = pd.read_csv('/datasets/messages.csv')\n",
    "tariffs = pd.read_csv('/datasets/tariffs.csv')\n",
    "users = pd.read_csv('/datasets/users.csv')\n"
   ]
  },
  {
   "cell_type": "markdown",
   "metadata": {},
   "source": [
    "We have data on 500 subscribers of the \"Megaline\" mobile network operator, including data on calls, text messages and internet usage. There is also a table with data about users (\"users\"). The data in these tables is linked to the column \"user_id\". The data about the operator's tariffs is presented in the table \"tariffs\" and is connected through the column \"tariff_name\" with the column \"tariff\" in the table \"users\". \n",
    "\n",
    "The purpose of our research: to analyze the customer behavior of both tariffs and, based on the analysis, draw a conclusion about which tariff has more revenue, and, accordingly, which tariff is worth to promote in the marketing campaign. \n",
    "To do this you need to:\n",
    "- prepare the data for processing - bring the column data types in order, and check the data for missing and null values, round up the data where required, etc.\n",
    "- create a summary data table to analyze all indicators by subscribers and periods\n",
    "- comparative analysis of data for tariff plans by calculating additional indicators and data visualization\n",
    "- to formulate and check the hypotheses\n",
    "- draw conclusions and make recommendations regarding the results of the analysis\n"
   ]
  },
  {
   "cell_type": "markdown",
   "metadata": {},
   "source": [
    "# Data preparation"
   ]
  },
  {
   "cell_type": "code",
   "execution_count": 45,
   "metadata": {},
   "outputs": [
    {
     "name": "stdout",
     "output_type": "stream",
     "text": [
      "<class 'pandas.core.frame.DataFrame'>\n",
      "RangeIndex: 202607 entries, 0 to 202606\n",
      "Data columns (total 4 columns):\n",
      "id           202607 non-null object\n",
      "call_date    202607 non-null object\n",
      "duration     202607 non-null float64\n",
      "user_id      202607 non-null int64\n",
      "dtypes: float64(1), int64(1), object(2)\n",
      "memory usage: 6.2+ MB\n",
      "None\n",
      "\n",
      "id           0\n",
      "call_date    0\n",
      "duration     0\n",
      "user_id      0\n",
      "dtype: int64\n",
      "\n",
      "0\n",
      "\n"
     ]
    }
   ],
   "source": [
    "print(calls.info())\n",
    "print()\n",
    "# Checking for missing values or duplicates\n",
    "print(calls.isna().sum()) \n",
    "print()\n",
    "print(calls.duplicated().sum())\n",
    "print()\n",
    "# Rounding up the call duration figures\n",
    "calls['duration'] = calls['duration'].apply(np.ceil)\n",
    "# Rounding up Internet traffic figures\n",
    "internet['mb_used'] = internet['mb_used'].apply(np.ceil)"
   ]
  },
  {
   "cell_type": "code",
   "execution_count": 46,
   "metadata": {},
   "outputs": [],
   "source": [
    "# data type replacement\n",
    "calls['call_date'] = pd.to_datetime(calls['call_date'])\n",
    "calls['duration'] = calls['duration'].astype('int')\n",
    "internet['mb_used'] = internet['mb_used'].astype('int')"
   ]
  },
  {
   "cell_type": "code",
   "execution_count": 47,
   "metadata": {},
   "outputs": [],
   "source": [
    "# replacement 0.00 at duration\n",
    "calls = calls[calls['duration'] != 0] "
   ]
  },
  {
   "cell_type": "markdown",
   "metadata": {},
   "source": [
    "In the \"calls\" table in the \"duration\" column, there are rows with call duration equal to - 0.0. Such data are incorrect, for further optimization of work with this table it makes sense to delete such lines.\n",
    "In the column \"duration\" according to the conditions of the operator we need to round up the duration of calls (for example, if the duration is 0.01, we round up to 1). The same is true for the consumption of Internet traffic (column \"mb_used\" in the table \"internet\"). After rounding the data up, it makes sense to change the type of columns to integer, because now they are integer data.\n",
    "Also we changed the type of column \"call_date\" from object to datetime, since we work with the date on this column."
   ]
  },
  {
   "cell_type": "code",
   "execution_count": 48,
   "metadata": {},
   "outputs": [
    {
     "name": "stdout",
     "output_type": "stream",
     "text": [
      "<class 'pandas.core.frame.DataFrame'>\n",
      "RangeIndex: 149396 entries, 0 to 149395\n",
      "Data columns (total 4 columns):\n",
      "id              149396 non-null object\n",
      "mb_used         149396 non-null int64\n",
      "session_date    149396 non-null object\n",
      "user_id         149396 non-null int64\n",
      "dtypes: int64(2), object(2)\n",
      "memory usage: 4.6+ MB\n",
      "None\n",
      "\n",
      "id              0\n",
      "mb_used         0\n",
      "session_date    0\n",
      "user_id         0\n",
      "dtype: int64\n",
      "\n",
      "0\n"
     ]
    }
   ],
   "source": [
    "print(internet.info())\n",
    "print()\n",
    "# Checking for missing values or duplicates\n",
    "print(internet.isna().sum())\n",
    "print()\n",
    "print(internet.duplicated().sum())\n",
    "# Rounding up the call duration figures\n",
    "internet['mb_used'] = internet['mb_used'].apply(np.ceil)"
   ]
  },
  {
   "cell_type": "code",
   "execution_count": 49,
   "metadata": {},
   "outputs": [],
   "source": [
    "# data type replacement\n",
    "internet['session_date'] = pd.to_datetime(internet['session_date'])"
   ]
  },
  {
   "cell_type": "markdown",
   "metadata": {},
   "source": [
    "In the column \"internet\" according to the conditions of the operator we must round up the amount of traffic used (for example, if the duration is 0.01 mb, we round up to 1 mb)\n",
    "Also we changed the \"session_date\" column type from object to datetime, because we are working with the date in this column"
   ]
  },
  {
   "cell_type": "code",
   "execution_count": 50,
   "metadata": {},
   "outputs": [
    {
     "name": "stdout",
     "output_type": "stream",
     "text": [
      "<class 'pandas.core.frame.DataFrame'>\n",
      "RangeIndex: 123036 entries, 0 to 123035\n",
      "Data columns (total 3 columns):\n",
      "id              123036 non-null object\n",
      "message_date    123036 non-null object\n",
      "user_id         123036 non-null int64\n",
      "dtypes: int64(1), object(2)\n",
      "memory usage: 2.8+ MB\n",
      "None\n",
      "\n",
      "id              0\n",
      "message_date    0\n",
      "user_id         0\n",
      "dtype: int64\n",
      "\n",
      "0\n"
     ]
    }
   ],
   "source": [
    "print(messages.info())\n",
    "print()\n",
    "# Checking for missing values or duplicates\n",
    "print(messages.isna().sum())\n",
    "print()\n",
    "print(messages.duplicated().sum())"
   ]
  },
  {
   "cell_type": "code",
   "execution_count": 51,
   "metadata": {},
   "outputs": [],
   "source": [
    "# data type replacement\n",
    "messages['message_date'] = pd.to_datetime(messages['message_date'])"
   ]
  },
  {
   "cell_type": "markdown",
   "metadata": {},
   "source": [
    "We replaced the \"message_date\" column type from object to datetime, since we work with the date in this column"
   ]
  },
  {
   "cell_type": "code",
   "execution_count": 52,
   "metadata": {},
   "outputs": [
    {
     "name": "stdout",
     "output_type": "stream",
     "text": [
      "<class 'pandas.core.frame.DataFrame'>\n",
      "RangeIndex: 2 entries, 0 to 1\n",
      "Data columns (total 8 columns):\n",
      "messages_included        2 non-null int64\n",
      "mg_per_month_included    2 non-null int64\n",
      "minutes_included         2 non-null int64\n",
      "rub_monthly_fee          2 non-null int64\n",
      "rub_per_gb               2 non-null int64\n",
      "rub_per_message          2 non-null int64\n",
      "rub_per_minute           2 non-null int64\n",
      "tariff_name              2 non-null object\n",
      "dtypes: int64(7), object(1)\n",
      "memory usage: 256.0+ bytes\n",
      "None\n"
     ]
    }
   ],
   "source": [
    "print(tariffs.info())\n",
    "# add a column to calculate the gigabytes included in each tariff\n",
    "tariffs['gb_per_month_included'] = tariffs['mg_per_month_included'] / 1024"
   ]
  },
  {
   "cell_type": "code",
   "execution_count": 53,
   "metadata": {},
   "outputs": [
    {
     "name": "stdout",
     "output_type": "stream",
     "text": [
      "<class 'pandas.core.frame.DataFrame'>\n",
      "RangeIndex: 500 entries, 0 to 499\n",
      "Data columns (total 8 columns):\n",
      "user_id       500 non-null int64\n",
      "age           500 non-null int64\n",
      "churn_date    38 non-null object\n",
      "city          500 non-null object\n",
      "first_name    500 non-null object\n",
      "last_name     500 non-null object\n",
      "reg_date      500 non-null object\n",
      "tariff        500 non-null object\n",
      "dtypes: int64(2), object(6)\n",
      "memory usage: 31.4+ KB\n",
      "None\n",
      "user_id         0\n",
      "age             0\n",
      "churn_date    462\n",
      "city            0\n",
      "first_name      0\n",
      "last_name       0\n",
      "reg_date        0\n",
      "tariff          0\n",
      "dtype: int64\n",
      "\n",
      "0\n"
     ]
    }
   ],
   "source": [
    "print(users.info())\n",
    "# Checking for missing values or duplicates\n",
    "print(users.isna().sum())\n",
    "print()\n",
    "print(users.duplicated().sum())"
   ]
  },
  {
   "cell_type": "code",
   "execution_count": 54,
   "metadata": {},
   "outputs": [],
   "source": [
    "# data type replacement\n",
    "users['reg_date'] = pd.to_datetime(users['reg_date'])\n",
    "users['churn_date'] = pd.to_datetime(users['churn_date'])"
   ]
  },
  {
   "cell_type": "markdown",
   "metadata": {},
   "source": [
    "In the \"churn_date\" column, we found 462 missing values. By convention, such omissions mean that the tariff was still valid at the time of data unloading. In this case, it is better to leave such omissions and not to replace or delete them. \n",
    "We replaced the types of columns: \"reg_date\" and \"churn_date\" with object to datetime, because we work with the date for these columns"
   ]
  },
  {
   "cell_type": "markdown",
   "metadata": {},
   "source": [
    "# Forming a table to calculate the indicators by months for each client"
   ]
  },
  {
   "cell_type": "code",
   "execution_count": 55,
   "metadata": {},
   "outputs": [
    {
     "name": "stdout",
     "output_type": "stream",
     "text": [
      "              tariff         city  call_amount  call_duration  msg_send  \\\n",
      "user_id month                                                             \n",
      "1000    5.0    ultra    Краснодар         17.0          159.0      22.0   \n",
      "        6.0    ultra    Краснодар         28.0          172.0      60.0   \n",
      "        7.0    ultra    Краснодар         41.0          340.0      75.0   \n",
      "        8.0    ultra    Краснодар         42.0          408.0      81.0   \n",
      "        9.0    ultra    Краснодар         46.0          466.0      57.0   \n",
      "...              ...          ...          ...            ...       ...   \n",
      "1498    10.0   smart  Владикавказ         30.0          247.0      42.0   \n",
      "1499    9.0    smart        Пермь          8.0           70.0      11.0   \n",
      "        10.0   smart        Пермь         44.0          449.0      48.0   \n",
      "        11.0   smart        Пермь         62.0          612.0      59.0   \n",
      "        12.0   smart        Пермь         56.0          492.0      66.0   \n",
      "\n",
      "               mb_used    gb_used calls_over_plan msg_over_plan  gb_over_plan  \\\n",
      "user_id month                                                                   \n",
      "1000    5.0     2256.0   2.203125             0.0           0.0           0.0   \n",
      "        6.0    23257.0  22.711914             0.0           0.0           0.0   \n",
      "        7.0    14016.0  13.687500             0.0           0.0           0.0   \n",
      "        8.0    14070.0  13.740234             0.0           0.0           0.0   \n",
      "        9.0    14581.0  14.239258             0.0           0.0           0.0   \n",
      "...                ...        ...             ...           ...           ...   \n",
      "1498    10.0   20604.0  20.121094             0.0           0.0    5.12109375   \n",
      "1499    9.0     1848.0   1.804688             0.0           0.0           0.0   \n",
      "        10.0   17809.0  17.391602             0.0           0.0  2.3916015625   \n",
      "        11.0   17984.0  17.562500           112.0           9.0        2.5625   \n",
      "        12.0   13077.0  12.770508             0.0          16.0           0.0   \n",
      "\n",
      "               total_income  \n",
      "user_id month                \n",
      "1000    5.0            1950  \n",
      "        6.0            1950  \n",
      "        7.0            1950  \n",
      "        8.0            1950  \n",
      "        9.0            1950  \n",
      "...                     ...  \n",
      "1498    10.0           1574  \n",
      "1499    9.0             550  \n",
      "        10.0           1028  \n",
      "        11.0           1425  \n",
      "        12.0            598  \n",
      "\n",
      "[3214 rows x 11 columns]\n"
     ]
    }
   ],
   "source": [
    "# create columns by month only\n",
    "calls['month'] = calls['call_date'].dt.month\n",
    "messages['month'] = messages['message_date'].dt.month\n",
    "internet['month'] = internet['session_date'].dt.month\n",
    "# create a table where we link the calls and users tables\n",
    "calls = pd.merge(calls, users.loc[:,['tariff', 'user_id', 'city']], on='user_id', how='right')\n",
    "# for each user by month the number of calls made\n",
    "users_calls_counts = calls.groupby(['user_id','month']).agg(tariff=pd.NamedAgg(column='tariff', aggfunc='first'),\n",
    "                                                            city=pd.NamedAgg(column='city', aggfunc='first'),\n",
    "                                                            call_amount=pd.NamedAgg(column='id', aggfunc='count'),\n",
    "                                                            call_duration=pd.NamedAgg(column='duration', aggfunc=sum))\n",
    "# for each user by month the number of messages sent\n",
    "users_messages_counts = messages.groupby(['user_id','month']).agg(msg_send=pd.NamedAgg(column='id', aggfunc='count'))\n",
    "# for each user by month the amount of Internet traffic spent\n",
    "users_internet_counts = internet.groupby(['user_id','month'])['mb_used'].sum()\n",
    "# create a sheet of grouped table names \n",
    "users_counts = [users_calls_counts,users_messages_counts,users_internet_counts]\n",
    "# create a final table where we merge the tables that were grouped together before\n",
    "result = pd.concat(users_counts,axis=1)\n",
    "# add a new column with spent gigabytes of traffic for each client\n",
    "result['gb_used'] = result['mb_used'] / 1024\n",
    "# function to calculate the excess by tariffs of the duration of calls                   \n",
    "def calls_over_plan(row):\n",
    "    if row['tariff'] == 'smart':\n",
    "        result = row['call_duration'] - 500\n",
    "        return np.where(result > 0, result, 0)\n",
    "    else:\n",
    "        result = row['call_duration'] - 3000\n",
    "        return np.where(result > 0, result, 0)\n",
    "# add a new column with the exceeded limit to the final table    \n",
    "result['calls_over_plan'] = result.apply(calls_over_plan, axis=1)\n",
    "# function to calculate the excess by tariffs of the number of messages sent \n",
    "def msg_over_plan(row):\n",
    "    if row['tariff'] == 'smart':\n",
    "        result = row['msg_send'] - 50\n",
    "        return np.where(result > 0, result, 0)\n",
    "    else:\n",
    "        result = row['msg_send'] - 1000\n",
    "        return np.where(result > 0, result, 0)\n",
    "# add a new column with the exceeded limit to the final table     \n",
    "result['msg_over_plan'] = result.apply(msg_over_plan, axis=1)    \n",
    "# function to calculate the excess by tariffs of spent Internet traffic in gigabytes  \n",
    "def gb_over_plan(row):\n",
    "    if row['tariff'] == 'smart':\n",
    "        result = row['gb_used'] - 15\n",
    "        return np.where(result > 0, result, 0)\n",
    "    else:\n",
    "        result = row['gb_used'] - 30\n",
    "        return np.where(result > 0, result, 0)\n",
    "# add a new column with the exceeded limit to the final table     \n",
    "result['gb_over_plan'] = result.apply(gb_over_plan, axis=1)    \n",
    "# function for monetary calculation of exceeding the limit and mandatory monthly payment \n",
    "def total_income(row):\n",
    "    if row['tariff'] == 'smart':\n",
    "        result = 550 + row['calls_over_plan'] * 3 + row['msg_over_plan'] * 3 + row['gb_over_plan'] * 200 \n",
    "        return np.where(result > 0, result, 0)\n",
    "    else:\n",
    "        result = 1950 + row['calls_over_plan'] * 1 + row['msg_over_plan'] * 1 + row['gb_over_plan'] * 150 \n",
    "        return np.where(result > 0, result, 0)\n",
    "# let's add a new column with the monetary value of exceeding the limit and the mandatory monthly payment to the final table      \n",
    "result['total_income'] = result.apply(total_income, axis=1).astype('int')\n",
    "print(result)"
   ]
  },
  {
   "cell_type": "code",
   "execution_count": 56,
   "metadata": {},
   "outputs": [
    {
     "data": {
      "text/html": [
       "<div>\n",
       "<style scoped>\n",
       "    .dataframe tbody tr th:only-of-type {\n",
       "        vertical-align: middle;\n",
       "    }\n",
       "\n",
       "    .dataframe tbody tr th {\n",
       "        vertical-align: top;\n",
       "    }\n",
       "\n",
       "    .dataframe thead th {\n",
       "        text-align: right;\n",
       "    }\n",
       "</style>\n",
       "<table border=\"1\" class=\"dataframe\">\n",
       "  <thead>\n",
       "    <tr style=\"text-align: right;\">\n",
       "      <th></th>\n",
       "      <th></th>\n",
       "      <th>tariff</th>\n",
       "      <th>city</th>\n",
       "      <th>call_amount</th>\n",
       "      <th>call_duration</th>\n",
       "      <th>msg_send</th>\n",
       "      <th>mb_used</th>\n",
       "      <th>gb_used</th>\n",
       "      <th>calls_over_plan</th>\n",
       "      <th>msg_over_plan</th>\n",
       "      <th>gb_over_plan</th>\n",
       "      <th>total_income</th>\n",
       "    </tr>\n",
       "    <tr>\n",
       "      <th>user_id</th>\n",
       "      <th>month</th>\n",
       "      <th></th>\n",
       "      <th></th>\n",
       "      <th></th>\n",
       "      <th></th>\n",
       "      <th></th>\n",
       "      <th></th>\n",
       "      <th></th>\n",
       "      <th></th>\n",
       "      <th></th>\n",
       "      <th></th>\n",
       "      <th></th>\n",
       "    </tr>\n",
       "  </thead>\n",
       "  <tbody>\n",
       "    <tr>\n",
       "      <td rowspan=\"5\" valign=\"top\">1000</td>\n",
       "      <td>5.0</td>\n",
       "      <td>ultra</td>\n",
       "      <td>Краснодар</td>\n",
       "      <td>17.0</td>\n",
       "      <td>159.0</td>\n",
       "      <td>22.0</td>\n",
       "      <td>2256.0</td>\n",
       "      <td>2.203125</td>\n",
       "      <td>0.0</td>\n",
       "      <td>0.0</td>\n",
       "      <td>0.0</td>\n",
       "      <td>1950</td>\n",
       "    </tr>\n",
       "    <tr>\n",
       "      <td>6.0</td>\n",
       "      <td>ultra</td>\n",
       "      <td>Краснодар</td>\n",
       "      <td>28.0</td>\n",
       "      <td>172.0</td>\n",
       "      <td>60.0</td>\n",
       "      <td>23257.0</td>\n",
       "      <td>22.711914</td>\n",
       "      <td>0.0</td>\n",
       "      <td>0.0</td>\n",
       "      <td>0.0</td>\n",
       "      <td>1950</td>\n",
       "    </tr>\n",
       "    <tr>\n",
       "      <td>7.0</td>\n",
       "      <td>ultra</td>\n",
       "      <td>Краснодар</td>\n",
       "      <td>41.0</td>\n",
       "      <td>340.0</td>\n",
       "      <td>75.0</td>\n",
       "      <td>14016.0</td>\n",
       "      <td>13.687500</td>\n",
       "      <td>0.0</td>\n",
       "      <td>0.0</td>\n",
       "      <td>0.0</td>\n",
       "      <td>1950</td>\n",
       "    </tr>\n",
       "    <tr>\n",
       "      <td>8.0</td>\n",
       "      <td>ultra</td>\n",
       "      <td>Краснодар</td>\n",
       "      <td>42.0</td>\n",
       "      <td>408.0</td>\n",
       "      <td>81.0</td>\n",
       "      <td>14070.0</td>\n",
       "      <td>13.740234</td>\n",
       "      <td>0.0</td>\n",
       "      <td>0.0</td>\n",
       "      <td>0.0</td>\n",
       "      <td>1950</td>\n",
       "    </tr>\n",
       "    <tr>\n",
       "      <td>9.0</td>\n",
       "      <td>ultra</td>\n",
       "      <td>Краснодар</td>\n",
       "      <td>46.0</td>\n",
       "      <td>466.0</td>\n",
       "      <td>57.0</td>\n",
       "      <td>14581.0</td>\n",
       "      <td>14.239258</td>\n",
       "      <td>0.0</td>\n",
       "      <td>0.0</td>\n",
       "      <td>0.0</td>\n",
       "      <td>1950</td>\n",
       "    </tr>\n",
       "    <tr>\n",
       "      <td>...</td>\n",
       "      <td>...</td>\n",
       "      <td>...</td>\n",
       "      <td>...</td>\n",
       "      <td>...</td>\n",
       "      <td>...</td>\n",
       "      <td>...</td>\n",
       "      <td>...</td>\n",
       "      <td>...</td>\n",
       "      <td>...</td>\n",
       "      <td>...</td>\n",
       "      <td>...</td>\n",
       "      <td>...</td>\n",
       "    </tr>\n",
       "    <tr>\n",
       "      <td>1498</td>\n",
       "      <td>10.0</td>\n",
       "      <td>smart</td>\n",
       "      <td>Владикавказ</td>\n",
       "      <td>30.0</td>\n",
       "      <td>247.0</td>\n",
       "      <td>42.0</td>\n",
       "      <td>20604.0</td>\n",
       "      <td>20.121094</td>\n",
       "      <td>0.0</td>\n",
       "      <td>0.0</td>\n",
       "      <td>5.12109375</td>\n",
       "      <td>1574</td>\n",
       "    </tr>\n",
       "    <tr>\n",
       "      <td rowspan=\"4\" valign=\"top\">1499</td>\n",
       "      <td>9.0</td>\n",
       "      <td>smart</td>\n",
       "      <td>Пермь</td>\n",
       "      <td>8.0</td>\n",
       "      <td>70.0</td>\n",
       "      <td>11.0</td>\n",
       "      <td>1848.0</td>\n",
       "      <td>1.804688</td>\n",
       "      <td>0.0</td>\n",
       "      <td>0.0</td>\n",
       "      <td>0.0</td>\n",
       "      <td>550</td>\n",
       "    </tr>\n",
       "    <tr>\n",
       "      <td>10.0</td>\n",
       "      <td>smart</td>\n",
       "      <td>Пермь</td>\n",
       "      <td>44.0</td>\n",
       "      <td>449.0</td>\n",
       "      <td>48.0</td>\n",
       "      <td>17809.0</td>\n",
       "      <td>17.391602</td>\n",
       "      <td>0.0</td>\n",
       "      <td>0.0</td>\n",
       "      <td>2.3916015625</td>\n",
       "      <td>1028</td>\n",
       "    </tr>\n",
       "    <tr>\n",
       "      <td>11.0</td>\n",
       "      <td>smart</td>\n",
       "      <td>Пермь</td>\n",
       "      <td>62.0</td>\n",
       "      <td>612.0</td>\n",
       "      <td>59.0</td>\n",
       "      <td>17984.0</td>\n",
       "      <td>17.562500</td>\n",
       "      <td>112.0</td>\n",
       "      <td>9.0</td>\n",
       "      <td>2.5625</td>\n",
       "      <td>1425</td>\n",
       "    </tr>\n",
       "    <tr>\n",
       "      <td>12.0</td>\n",
       "      <td>smart</td>\n",
       "      <td>Пермь</td>\n",
       "      <td>56.0</td>\n",
       "      <td>492.0</td>\n",
       "      <td>66.0</td>\n",
       "      <td>13077.0</td>\n",
       "      <td>12.770508</td>\n",
       "      <td>0.0</td>\n",
       "      <td>16.0</td>\n",
       "      <td>0.0</td>\n",
       "      <td>598</td>\n",
       "    </tr>\n",
       "  </tbody>\n",
       "</table>\n",
       "<p>3214 rows × 11 columns</p>\n",
       "</div>"
      ],
      "text/plain": [
       "              tariff         city  call_amount  call_duration  msg_send  \\\n",
       "user_id month                                                             \n",
       "1000    5.0    ultra    Краснодар         17.0          159.0      22.0   \n",
       "        6.0    ultra    Краснодар         28.0          172.0      60.0   \n",
       "        7.0    ultra    Краснодар         41.0          340.0      75.0   \n",
       "        8.0    ultra    Краснодар         42.0          408.0      81.0   \n",
       "        9.0    ultra    Краснодар         46.0          466.0      57.0   \n",
       "...              ...          ...          ...            ...       ...   \n",
       "1498    10.0   smart  Владикавказ         30.0          247.0      42.0   \n",
       "1499    9.0    smart        Пермь          8.0           70.0      11.0   \n",
       "        10.0   smart        Пермь         44.0          449.0      48.0   \n",
       "        11.0   smart        Пермь         62.0          612.0      59.0   \n",
       "        12.0   smart        Пермь         56.0          492.0      66.0   \n",
       "\n",
       "               mb_used    gb_used calls_over_plan msg_over_plan  gb_over_plan  \\\n",
       "user_id month                                                                   \n",
       "1000    5.0     2256.0   2.203125             0.0           0.0           0.0   \n",
       "        6.0    23257.0  22.711914             0.0           0.0           0.0   \n",
       "        7.0    14016.0  13.687500             0.0           0.0           0.0   \n",
       "        8.0    14070.0  13.740234             0.0           0.0           0.0   \n",
       "        9.0    14581.0  14.239258             0.0           0.0           0.0   \n",
       "...                ...        ...             ...           ...           ...   \n",
       "1498    10.0   20604.0  20.121094             0.0           0.0    5.12109375   \n",
       "1499    9.0     1848.0   1.804688             0.0           0.0           0.0   \n",
       "        10.0   17809.0  17.391602             0.0           0.0  2.3916015625   \n",
       "        11.0   17984.0  17.562500           112.0           9.0        2.5625   \n",
       "        12.0   13077.0  12.770508             0.0          16.0           0.0   \n",
       "\n",
       "               total_income  \n",
       "user_id month                \n",
       "1000    5.0            1950  \n",
       "        6.0            1950  \n",
       "        7.0            1950  \n",
       "        8.0            1950  \n",
       "        9.0            1950  \n",
       "...                     ...  \n",
       "1498    10.0           1574  \n",
       "1499    9.0             550  \n",
       "        10.0           1028  \n",
       "        11.0           1425  \n",
       "        12.0            598  \n",
       "\n",
       "[3214 rows x 11 columns]"
      ]
     },
     "execution_count": 56,
     "metadata": {},
     "output_type": "execute_result"
    }
   ],
   "source": [
    "result"
   ]
  },
  {
   "cell_type": "markdown",
   "metadata": {},
   "source": [
    "To analyze the monthly revenue from each user, we need to create a summary table by tariff conditions. Among the original five tables is a common column with an individual customer id number. We will use it to form the table. Pay attention that we form a table by months for each client, because there are clients whose contract has already expired, and it is relevant to count exactly the costs by month. "
   ]
  },
  {
   "cell_type": "markdown",
   "metadata": {},
   "source": [
    "# Analysis of the generated table to calculate the indicators for tariff plans"
   ]
  },
  {
   "cell_type": "code",
   "execution_count": 57,
   "metadata": {},
   "outputs": [
    {
     "name": "stdout",
     "output_type": "stream",
     "text": [
      "Average call duration  =  547.7550158394931\n",
      "Standard deviation of call duration  =  305.5133847991131\n",
      "Variance of call duration  =  93338.42829141095\n",
      "\n",
      "Average message amount  =  60.83662714097497\n",
      "Standard deviation of message amount  =  44.43696050354379\n",
      "Variance of message amount  =  1974.6434587935105\n",
      "\n",
      "Average internet traffic  =  19.236009204909283\n",
      "Standard deviation of internet traffic  =  9.753696138483857\n",
      "Variance of internet traffic  =  95.1345883618749\n",
      "\n"
     ]
    }
   ],
   "source": [
    "# generate the table only for the \"Ultra\" tariff\n",
    "tariff_ultra = result.query('tariff == \"ultra\"')\n",
    "# duration of calls among Ultra tariff subscribers\n",
    "tariff_ultra_duration_mean = tariff_ultra['call_duration']\n",
    "# number of messages among Ultra tariff subscribers\n",
    "tariff_ultra_msg_mean = tariff_ultra['msg_send']\n",
    "# internet traffic among Ultra subscribers\n",
    "tariff_ultra_gb_mean = tariff_ultra['gb_used']\n",
    "# vocabulary from the data collected up to this point\n",
    "tariff_ultra_mean = [{\"name\": \"call duration\", \"table\":tariff_ultra_duration_mean}, \n",
    "                     {\"name\": \"message amount\", \"table\":tariff_ultra_msg_mean}, \n",
    "                     {\"name\": \"internet traffic\", \"table\":tariff_ultra_gb_mean}]\n",
    "# calculation of the mean, variance, and standard deviation\n",
    "for element in tariff_ultra_mean:\n",
    "    print(\"Average\", element['name'],' = ',element[\"table\"].mean())\n",
    "    print('Standard deviation of', element['name'],' = ',element['table'].std())\n",
    "    print('Variance of', element['name'], ' = ',element['table'].var())\n",
    "    print()"
   ]
  },
  {
   "cell_type": "code",
   "execution_count": 58,
   "metadata": {},
   "outputs": [
    {
     "name": "stdout",
     "output_type": "stream",
     "text": [
      "Average call duration  =  419.4403421882035\n",
      "Standard deviation of call duration  =  188.99240337626512\n",
      "Variance of call duration  =  35718.128533936906\n",
      "\n",
      "Average message amount  =  38.74817136886102\n",
      "Standard deviation of message amount  =  26.829451273168758\n",
      "Variance of message amount  =  719.8194556193367\n",
      "\n",
      "Average internet traffic  =  15.858177611204955\n",
      "Standard deviation of internet traffic  =  5.736984007428575\n",
      "Variance of internet traffic  =  32.91298550149123\n",
      "\n"
     ]
    }
   ],
   "source": [
    "# расчет среднего значения, дисперсии и стандартного отклонения\n",
    "tariff_smart = result.query('tariff == \"smart\"')\n",
    "# duration of calls among \"Smart\" tariff subscribers\n",
    "tariff_smart_duration_mean = tariff_smart['call_duration']\n",
    "# number of messages among \"Smart\" tariff subscribers\n",
    "tariff_smart_msg_mean = tariff_smart['msg_send']\n",
    "# internet traffic among Smart subscribers\n",
    "tariff_smart_gb_mean = tariff_smart['gb_used']\n",
    "# vocabulary from the data collected up to this point\n",
    "tariff_smart_mean = [{\"name\": \"call duration\", \"table\":tariff_smart_duration_mean}, \n",
    "                     {\"name\": \"message amount\", \"table\":tariff_smart_msg_mean}, \n",
    "                     {\"name\": \"internet traffic\", \"table\":tariff_smart_gb_mean}]\n",
    "# calculation of the mean, variance, and standard dev\n",
    "for element in tariff_smart_mean:\n",
    "    print(\"Average\", element['name'],' = ',element[\"table\"].mean())\n",
    "    print('Standard deviation of', element['name'],' = ',element['table'].std())\n",
    "    print('Variance of', element['name'], ' = ',element['table'].var())\n",
    "    print()"
   ]
  },
  {
   "cell_type": "markdown",
   "metadata": {},
   "source": [
    "Comparing the average figures for the two tariffs, we can conclude that the average duration of calls per month does not exceed the limit conditions of the tariff. So in the \"Ultra\" tariff the average indicator is 548 minutes at the limit of 3,000. In \"Smart\" - 419 minutes at 500 minutes per month limit. However, it is worth noting the extremely high standard deviation (306 and 189), which indicates a high dispersion of random values relative to the mathematical expectation in both tariffs.\n",
    "As for the messages sent on average per month, the dispersion is also large in relation to the amount of service used, while the average value is much lower than the stated limit. In the Ultra tariff it is 61 messages per month with a limit of 1,000 messages, in the Smart tariff it is 39 messages with a limit of 50. We see the unpopularity of using this option among clients.\n",
    "As for the Internet traffic, there is an important observation. The average amount of Internet traffic per month in the \"Smart\" tariff exceeds the established limit a little bit (15.9 gb with a limit of 15 gb), with a standard deviation of 5.7 gb. We can conclude that customers almost always exceed the limit of traffic per month, and pay more than the limit, which brings additional revenue for this tariff. In the Ultra tariff the average traffic is 19.2 gb with a limit of 30 gb, and the standard deviation is 9.8 gb. A high monthly limit is set here, so as a rule, there is no additional revenue within the Ultra tariff for this service. "
   ]
  },
  {
   "cell_type": "code",
   "execution_count": 59,
   "metadata": {},
   "outputs": [
    {
     "data": {
      "image/png": "[encoded data removed]",
      "text/plain": [
       "<Figure size 1080x360 with 1 Axes>"
      ]
     },
     "metadata": {
      "needs_background": "light"
     },
     "output_type": "display_data"
    }
   ],
   "source": [
    "# dictionary of two tariffs and average duration of calls per month\n",
    "tariffs_duration_mean = [{\"name\": \"call duration\", \"table\":tariff_ultra_duration_mean},\n",
    "                         {\"name\": \"call duration\", \"table\":tariff_smart_duration_mean}]\n",
    "# chart of the two rates and the average duration of calls per month\n",
    "for element in tariffs_duration_mean:\n",
    "    element['table'].plot(grid=True,figsize=(15,5),title='tariffs_duration_mean',kind='hist',alpha=0.4)\n",
    "    plt.legend(['ultra','smart'])"
   ]
  },
  {
   "cell_type": "markdown",
   "metadata": {},
   "source": [
    "A significant number of \"Smart\" tariff subscribers use at least half of the limit for the duration of their calls, while a significant number of subscribers fully use up or exceed this limit. In contrast, Ultra tariff subscribers actually do not exceed the set limit of 3,000 minutes. Also, in both cases there is a generally normal distribution of data without obvious slopes."
   ]
  },
  {
   "cell_type": "code",
   "execution_count": 60,
   "metadata": {},
   "outputs": [
    {
     "data": {
      "image/png": "[encoded data removed]",
      "text/plain": [
       "<Figure size 1080x360 with 1 Axes>"
      ]
     },
     "metadata": {
      "needs_background": "light"
     },
     "output_type": "display_data"
    }
   ],
   "source": [
    "# dictionary by two rates and average number of messages sent per month\n",
    "tariffs_msg_mean = [{\"name\": \"message amount\", \"table\":tariff_ultra_msg_mean},\n",
    "                    {\"name\": \"message amount\", \"table\":tariff_smart_msg_mean}]\n",
    "# chart by two rates and average number of messages sent per month\n",
    "for element in tariffs_msg_mean:\n",
    "    element['table'].plot(grid=True,figsize=(15,5),title='tariffs_msg_mean',kind='hist',alpha=0.4)\n",
    "    plt.legend(['ultra','smart'])  "
   ]
  },
  {
   "cell_type": "markdown",
   "metadata": {},
   "source": [
    "The data for subscribers in both tariffs on the text messaging service is skewed to the right, which means that in both groups the interest in this service is not too high, so fewer people are sending many text messages per month. At the same time, we can see that Ultra tariff subscribers do not actually exceed the limit of text messages, while there are significant exceedances of the limit among Smart tariff subscribers."
   ]
  },
  {
   "cell_type": "code",
   "execution_count": 61,
   "metadata": {
    "scrolled": true
   },
   "outputs": [
    {
     "data": {
      "image/png": "[encoded data removed]",
      "text/plain": [
       "<Figure size 1080x360 with 1 Axes>"
      ]
     },
     "metadata": {
      "needs_background": "light"
     },
     "output_type": "display_data"
    }
   ],
   "source": [
    "# dictionary of two rates and average Internet traffic per month\n",
    "tariffs_gb_mean = [{\"name\": \"internet traffic\", \"table\":tariff_ultra_gb_mean},\n",
    "                    {\"name\": \"internet traffic\", \"table\":tariff_smart_gb_mean}]\n",
    "# chart for two rates and average Internet traffic per month\n",
    "for element in tariffs_gb_mean:\n",
    "    element['table'].plot(grid=True,figsize=(15,5),title='tariffs_gb_mean',kind='hist',alpha=0.4)\n",
    "    plt.legend(['ultra','smart'])"
   ]
  },
  {
   "cell_type": "markdown",
   "metadata": {},
   "source": [
    "The data for subscribers in both tariffs is generally evenly distributed. At the same time, almost half of the graph for \"Smart\" tariff subscribers is outside the established limit for Internet traffic - 15gb. It should be noted that \"Ultra\" tariff subscribers are also characterized by partial exceeding of the limit for this service. Thus it is possible to draw a conclusion about growing popularity of the given service among subscribers of cellular operators. \n",
    "\n",
    "Overall, the number of Smart subscribers is significantly higher than the number of Ultra subscribers, which is primarily due to the higher affordability of the Smart tariff. Ultra subscribers exceed limits set by the tariff plan much less frequently, which means they are already quite profitable for the company. However, due to the significant difference in pricing policy, the demand for this tariff is limited (the size of the target segment is limited), and marketing costs may not be reasonable. At the same time, \"Smart\" tariff subscribers almost always exceed the established limits and thus provide additional revenue for the company."
   ]
  },
  {
   "cell_type": "markdown",
   "metadata": {},
   "source": [
    "# Hypothesis testing"
   ]
  },
  {
   "cell_type": "code",
   "execution_count": 62,
   "metadata": {},
   "outputs": [
    {
     "name": "stdout",
     "output_type": "stream",
     "text": [
      "Интервал по тарифу \"Ультра\": 981.8 - 3142.0\n"
     ]
    }
   ],
   "source": [
    "# the average value of payment for the \"Ultra\" tariff\n",
    "tariff_ultra_total_income_mean = tariff_ultra['total_income'].mean()\n",
    "# standard deviation of payment for the Ultra tariff\n",
    "tariff_ultra_total_income_std = tariff_ultra['total_income'].std()\n",
    "# The Three Sigma Rule!!!\n",
    "tariff_ultra_total_income_mean_bottom_line = tariff_ultra_total_income_mean - tariff_ultra_total_income_std*3\n",
    "tariff_ultra_total_income_mean_top_line = tariff_ultra_total_income_mean + tariff_ultra_total_income_std*3\n",
    "print('Interval for the Ultra tariff: {:.1f}'.format(tariff_ultra_total_income_mean_bottom_line),'- {:.1f}'\n",
    "      .format(tariff_ultra_total_income_mean_top_line))"
   ]
  },
  {
   "cell_type": "code",
   "execution_count": 63,
   "metadata": {},
   "outputs": [
    {
     "name": "stdout",
     "output_type": "stream",
     "text": [
      "Интервал по тарифу \"Смарт\": -1131.2 - 3599.5\n"
     ]
    }
   ],
   "source": [
    "# the average payment for the \"Smart\" tariff\n",
    "tariff_smart_total_income_mean = tariff_smart['total_income'].mean()\n",
    "# standard deviation of Smart fare\n",
    "tariff_smart_total_income_std = tariff_smart['total_income'].std()\n",
    "# The Three Sigma Rule!!!\n",
    "tariff_smart_total_income_mean_bottom_line = tariff_smart_total_income_mean - tariff_smart_total_income_std*3\n",
    "tariff_smart_total_income_mean_top_line = tariff_smart_total_income_mean + tariff_smart_total_income_std*3\n",
    "print('Interval at the \"Smart\" tariff: {:.1f}'.format(tariff_smart_total_income_mean_bottom_line),'- {:.1f}'\n",
    "      .format(tariff_smart_total_income_mean_top_line))"
   ]
  },
  {
   "cell_type": "code",
   "execution_count": 64,
   "metadata": {
    "scrolled": true
   },
   "outputs": [
    {
     "name": "stdout",
     "output_type": "stream",
     "text": [
      "2002.7883771929824\n",
      "p-значение:  0.0\n",
      "Отвергаем нулевую гипотезу\n"
     ]
    }
   ],
   "source": [
    "# sampling interval according to the three sigma rule for the \"Ultra\" tariff. The minimum value cannot be less than the value specified in the tariff\n",
    "tariff_ultra_interval = tariff_ultra.query('total_income >= 1950 and total_income <= 3142')\n",
    "# sampling interval according to the three sigma rule for the \"Smart\" tariff. The minimum value cannot be less than the one specified in the tariff\n",
    "tariff_smart_interval = tariff_smart.query('total_income >= 550 and total_income <= 3600')\n",
    "# search for the average value over a given interval in the \"Ultra\" tariff to test the hypothesis for the \"Smart\" tariff\n",
    "print(tariff_ultra_interval['total_income'].mean())\n",
    "optimal_value = 2003\n",
    "# let's set the commonly used threshold value of 5%\n",
    "alpha = .05\n",
    "results = st.ttest_1samp(tariff_smart_interval['total_income'], optimal_value) \n",
    "print('p-value: ', results.pvalue)\n",
    "if (results.pvalue < alpha) :\n",
    "    print(\"Rejecting the null hypothesis\")\n",
    "else:\n",
    "    print(\"It was not possible to reject the null hypothesis\")"
   ]
  },
  {
   "cell_type": "markdown",
   "metadata": {},
   "source": [
    "Let's form the null hypothesis: - \"The average revenue of Ultra and Smart tariff users differs\". Then an alternative hypothesis would be: - \"The average revenue of Ultra and Smart tariff users does not differ\". To do this, we will take as a criterion the average revenue figure for the \"Ultra\" tariff and compare it to the average figure for the \"Smart\" tariff. For a more accurate sample, we will use the three sigma rule, and cut off the outliers. Let's set the commonly accepted threshold value at 5%. As we see the p-value is zero, which rejects our null hypothesis. We accept in this case the alternative hypothesis that the average revenue per tariff does not differ"
   ]
  },
  {
   "cell_type": "code",
   "execution_count": 65,
   "metadata": {
    "scrolled": true
   },
   "outputs": [
    {
     "name": "stdout",
     "output_type": "stream",
     "text": [
      "Интервал: -713.9 - 3726.6\n"
     ]
    }
   ],
   "source": [
    "# sampling of all clients in Moscow only\n",
    "moscow_users = result.query('city == \"Москва\"')\n",
    "# the average payment in Moscow\n",
    "moscow_users_total_income_mean = moscow_users['total_income'].mean()\n",
    "# standard deviation of payment for Moscow\n",
    "moscow_users_total_income_std = moscow_users['total_income'].std()\n",
    "# The Three Sigma Rule!!!\n",
    "moscow_users_total_income_mean_bottom_line = moscow_users_total_income_mean - moscow_users_total_income_std*3\n",
    "moscow_users_total_income_mean_top_line = moscow_users_total_income_mean + moscow_users_total_income_std*3\n",
    "print('Interval: {:.1f}'.format(moscow_users_total_income_mean_bottom_line),'- {:.1f}'\n",
    "      .format(moscow_users_total_income_mean_top_line))"
   ]
  },
  {
   "cell_type": "code",
   "execution_count": 66,
   "metadata": {},
   "outputs": [
    {
     "name": "stdout",
     "output_type": "stream",
     "text": [
      "Интервал: -895.2 - 3865.5\n"
     ]
    }
   ],
   "source": [
    "# sampling of all clients by country, except for Moscow\n",
    "country_users = result.query('city != \"Москва\"')\n",
    "# the average payment of all customers in the country, excluding Moscow\n",
    "country_users_total_income_mean = country_users['total_income'].mean()\n",
    "# standard deviation of payment for all customers in the country, except for Moscow\n",
    "country_users_total_income_std = country_users['total_income'].std()\n",
    "# The Three Sigma Rule!!!\n",
    "country_users_total_income_mean_bottom_line = country_users_total_income_mean - country_users_total_income_std*3\n",
    "country_users_total_income_mean_top_line = country_users_total_income_mean + country_users_total_income_std*3\n",
    "print('Interval: {:.1f}'.format(country_users_total_income_mean_bottom_line),'- {:.1f}'\n",
    "      .format(country_users_total_income_mean_top_line))"
   ]
  },
  {
   "cell_type": "code",
   "execution_count": 68,
   "metadata": {
    "scrolled": false
   },
   "outputs": [
    {
     "name": "stdout",
     "output_type": "stream",
     "text": [
      "1488.2739273927393\n",
      "p-значение:  0.03148931871414501\n",
      "Отвергаем нулевую гипотезу\n"
     ]
    }
   ],
   "source": [
    "# sampling interval according to the three sigma rule for Moscow. The minimum value cannot be less than the one specified in the tariff\n",
    "moscow_users_interval = moscow_users.query('total_income >= 550 and total_income <= 3727')\n",
    "# sampling interval according to the three sigma rule for the whole country, except for Moscow. The minimum value cannot be less than that specified in the tariff\n",
    "country_users_interval = country_users.query('total_income >= 550 and total_income <= 3866')\n",
    "# search for the mean value for a given interval in Moscow to test the hypothesis for the whole country except for Moscow\n",
    "print(moscow_users_interval['total_income'].mean())\n",
    "optimal_value = 1488\n",
    "# let's set the commonly used threshold value of 5%\n",
    "alpha = .05\n",
    "results = st.ttest_1samp(country_users_interval['total_income'], optimal_value) \n",
    "print('p-value: ', results.pvalue)\n",
    "if (results.pvalue < alpha) :\n",
    "    print(\"Rejecting the null hypothesis\")\n",
    "else:\n",
    "    print(\"It was not possible to reject the null hypothesis\")"
   ]
  },
  {
   "cell_type": "markdown",
   "metadata": {},
   "source": [
    "Let's form the null hypothesis: - \"The average revenue of users from Moscow differs from the revenue of users from other regions\". Then the alternative hypothesis will be: \"The average revenue of users from Moscow does not differ from the revenue of users from other regions\". To do this we will take the average revenue indicator for Moscow as a criterion and compare it to the average indicator for other regions. For more accurate sampling we will use the three sigma rule, and cut off the dislodged indicators. Let's set the generally accepted threshold value of 5%. As we can see the p-value is 3.2%, which is below the threshold. This rejects our null hypothesis. We accept the alternative hypothesis in this case, that the average revenue in Moscow does not differ from the average revenue in the regions."
   ]
  },
  {
   "cell_type": "markdown",
   "metadata": {},
   "source": [
    "# General Conclusion"
   ]
  },
  {
   "cell_type": "markdown",
   "metadata": {},
   "source": [
    "We did a preliminary analysis of tariffs on a small sample of customers. We have at our disposal data from 500 \"Megaline\" users for 2018. Customers are offered two tariff plans: \"Smart\" and \"Ultra\". Comparing the average figures for the two tariffs, we can conclude that the average duration of calls per month does not exceed the limited conditions of the tariff. For example in Ultra tariff average duration of calls is 548 minutes, but the limit is 3000. In \"Smart\" - 419 minutes at 500 minutes per month limit. However, it is worth noting the extremely high standard deviation (306 and 189), which indicates a high dispersion of random values relative to the mathematical expectation in both tariffs. \n",
    "As for the average messages sent per month, the spread is also high in relation to the amount of service used (44 messages in Ultra and 27 messages in Smart), while the average value is much lower than the declared limit. In the Ultra tariff it is 61 messages per month with a limit of 1,000 messages, in the Smart tariff it is 39 messages with a limit of 50. We see the unpopularity of using this option among the customers As for Internet traffic, there is an important observation. \n",
    "The average amount of Internet traffic per month is slightly higher than the established limit (15.9 gb within a 15 gb limit), with a standard deviation of 5.7 gb. We can conclude that customers almost always exceed the limit of traffic per month, and pay more than the limit, which brings additional revenue for this tariff. In the Ultra tariff the average traffic is 19.2 gb with a limit of 30 gb, and the standard deviation is 9.8 gb. There is a high monthly limit here, so as a rule, there is no extra revenue within the Ultra tariff for this service.\n",
    "The pricing policy of the tariffs suggests that the \"Smart\" tariff is more popular. However, users of this tariff considerably more often exceed the limits set by the tariff, than provide additional revenues to the mobile operator. At the same time, Ultra tariff users almost never exceed the set tariffs, which means that the price for this tariff already includes an additional benefit. However, increasing the number of subscribers to this tariff is quite difficult because demand is limited. \n",
    "Having formed and tested the null hypotheses: \"The average revenue of Ultra and Smart tariff users differs\" and \"The average revenue of users from Moscow differs from users from other regions\", we did not receive their confirmation, which means that there is no difference in average revenue, both among tariffs and by region.\n",
    "Of all of the above, we recommend focusing on the \"Smart\" tariff, as we see quite frequent exceeding of the limits, bringing in additional funds, while the average revenue does not differ from the \"Ultra\" tariff. And also the monthly increase in average revenue among all indicators during the year."
   ]
  }
 ],
 "metadata": {
  "kernelspec": {
   "display_name": "Python 3 (ipykernel)",
   "language": "python",
   "name": "python3"
  },
  "language_info": {
   "codemirror_mode": {
    "name": "ipython",
    "version": 3
   },
   "file_extension": ".py",
   "mimetype": "text/x-python",
   "name": "python",
   "nbconvert_exporter": "python",
   "pygments_lexer": "ipython3",
   "version": "3.9.7"
  },
  "toc": {
   "base_numbering": 1,
   "nav_menu": {},
   "number_sections": true,
   "sideBar": true,
   "skip_h1_title": true,
   "title_cell": "Table of Contents",
   "title_sidebar": "Contents",
   "toc_cell": false,
   "toc_position": {},
   "toc_section_display": true,
   "toc_window_display": false
  }
 },
 "nbformat": 4,
 "nbformat_minor": 2
}
